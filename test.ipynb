{
 "metadata": {
  "language_info": {
   "codemirror_mode": {
    "name": "ipython",
    "version": 3
   },
   "file_extension": ".py",
   "mimetype": "text/x-python",
   "name": "python",
   "nbconvert_exporter": "python",
   "pygments_lexer": "ipython3",
   "version": "3.8.5-final"
  },
  "orig_nbformat": 2,
  "kernelspec": {
   "name": "python3",
   "display_name": "Python 3",
   "language": "python"
  }
 },
 "nbformat": 4,
 "nbformat_minor": 2,
 "cells": [
  {
   "cell_type": "code",
   "execution_count": 1,
   "metadata": {},
   "outputs": [
    {
     "output_type": "stream",
     "name": "stderr",
     "text": [
      "C:\\Users\\debji\\anaconda3\\envs\\ybs\\lib\\site-packages\\numpy\\_distributor_init.py:30: UserWarning: loaded more than 1 DLL from .libs:\nC:\\Users\\debji\\anaconda3\\envs\\ybs\\lib\\site-packages\\numpy\\.libs\\libopenblas.JPIJNSWNNAN3CE6LLI5FWSPHUT2VXMTH.gfortran-win_amd64.dll\nC:\\Users\\debji\\anaconda3\\envs\\ybs\\lib\\site-packages\\numpy\\.libs\\libopenblas.WCDJNK7YVMPZQ2ME2ZZHJJRJ3JIKNDB7.gfortran-win_amd64.dll\n  warnings.warn(\"loaded more than 1 DLL from .libs:\"\n"
     ]
    }
   ],
   "source": [
    "import nltk"
   ]
  },
  {
   "cell_type": "code",
   "execution_count": 24,
   "metadata": {},
   "outputs": [
    {
     "output_type": "error",
     "ename": "NameError",
     "evalue": "name '__file__' is not defined",
     "traceback": [
      "\u001b[1;31m---------------------------------------------------------------------------\u001b[0m",
      "\u001b[1;31mNameError\u001b[0m                                 Traceback (most recent call last)",
      "\u001b[1;32m<ipython-input-24-6a3ab320ef79>\u001b[0m in \u001b[0;36m<module>\u001b[1;34m\u001b[0m\n\u001b[1;32m----> 1\u001b[1;33m \u001b[0mroot\u001b[0m \u001b[1;33m=\u001b[0m \u001b[0mos\u001b[0m\u001b[1;33m.\u001b[0m\u001b[0mpath\u001b[0m\u001b[1;33m.\u001b[0m\u001b[0mdirname\u001b[0m\u001b[1;33m(\u001b[0m\u001b[0mos\u001b[0m\u001b[1;33m.\u001b[0m\u001b[0mpath\u001b[0m\u001b[1;33m.\u001b[0m\u001b[0mabspath\u001b[0m\u001b[1;33m(\u001b[0m\u001b[0m__file__\u001b[0m\u001b[1;33m)\u001b[0m\u001b[1;33m)\u001b[0m\u001b[1;33m\u001b[0m\u001b[1;33m\u001b[0m\u001b[0m\n\u001b[0m\u001b[0;32m      2\u001b[0m \u001b[0mdownload_dir\u001b[0m \u001b[1;33m=\u001b[0m \u001b[0mos\u001b[0m\u001b[1;33m.\u001b[0m\u001b[0mpath\u001b[0m\u001b[1;33m.\u001b[0m\u001b[0mjoin\u001b[0m\u001b[1;33m(\u001b[0m\u001b[0mroot\u001b[0m\u001b[1;33m,\u001b[0m \u001b[1;34m'nltk_data'\u001b[0m\u001b[1;33m)\u001b[0m\u001b[1;33m\u001b[0m\u001b[1;33m\u001b[0m\u001b[0m\n\u001b[0;32m      3\u001b[0m \u001b[0mos\u001b[0m\u001b[1;33m.\u001b[0m\u001b[0mchdir\u001b[0m\u001b[1;33m(\u001b[0m\u001b[0mdownload_dir\u001b[0m\u001b[1;33m)\u001b[0m\u001b[1;33m\u001b[0m\u001b[1;33m\u001b[0m\u001b[0m\n\u001b[0;32m      4\u001b[0m \u001b[0mnltk\u001b[0m\u001b[1;33m.\u001b[0m\u001b[0mdata\u001b[0m\u001b[1;33m.\u001b[0m\u001b[0mpath\u001b[0m\u001b[1;33m.\u001b[0m\u001b[0mappend\u001b[0m\u001b[1;33m(\u001b[0m\u001b[0mdownload_dir\u001b[0m\u001b[1;33m)\u001b[0m\u001b[1;33m\u001b[0m\u001b[1;33m\u001b[0m\u001b[0m\n",
      "\u001b[1;31mNameError\u001b[0m: name '__file__' is not defined"
     ]
    }
   ],
   "source": [
    "  root = os.path.dirname(os.path.abspath(__file__))\n",
    "  download_dir = os.path.join(root, 'nltk_data')\n",
    "  os.chdir(download_dir)\n",
    "  nltk.data.path.append(download_dir)"
   ]
  },
  {
   "cell_type": "code",
   "execution_count": 10,
   "metadata": {},
   "outputs": [
    {
     "output_type": "stream",
     "name": "stdout",
     "text": [
      "Wall time: 997 µs\n"
     ]
    },
    {
     "output_type": "execute_result",
     "data": {
      "text/plain": [
       "['The Honan Chapel is a small Catholic church built in the Celtic-Romanesque Revival style on the grounds of University College Cork.',\n",
       " 'Designed in 1914, the building was completed in 1916 and fully furnished by 1917.',\n",
       " 'Its architecture and fittings are representative of the Celtic Revival movement.',\n",
       " \"Its construction was initiated by Dublin solicitor John O'Connell, and funded by Isabella Honan, a member of a wealthy Cork family, who made a significant donation towards the works.\",\n",
       " \"O'Connell guided the architect James F. McMullen and the builders John Sisk and Sons, and hired the craftsmen and artists involved in its artwork.\",\n",
       " 'in 1986, the sculptor Imogen Stuart was commissioned to oversee the installation of a new altar and other furnishings and fittings.',\n",
       " \"The chapel's interior is designed and fitted in a traditional Irish style, but with an appreciation of contemporary trends.\",\n",
       " 'Its furnishings include the mosaic flooring, altar plate, metalwork and enamel pieces, liturgical textiles, and nineteen stained-glass windows.']"
      ]
     },
     "metadata": {},
     "execution_count": 10
    }
   ],
   "source": [
    "%%time\n",
    "s = '''The Honan Chapel is a small Catholic church built in the Celtic-Romanesque Revival style on the grounds of University College Cork.       Designed in 1914, the building was completed in 1916 and fully furnished by 1917. Its architecture and fittings are representative of the Celtic Revival movement. Its construction was initiated by Dublin solicitor John O'Connell, and funded by Isabella Honan, a member of a wealthy Cork family, who made a significant donation towards the works. O'Connell guided the architect James F. McMullen and the builders John Sisk and Sons, and hired the craftsmen and artists involved in its artwork. in 1986, the sculptor Imogen Stuart was commissioned to oversee the installation of a new altar and other furnishings and fittings. The chapel's interior is designed and fitted in a traditional Irish style, but with an appreciation of contemporary trends. Its furnishings include the mosaic flooring, altar plate, metalwork and enamel pieces, liturgical textiles, and nineteen stained-glass windows.'''\n",
    "\n",
    "nltk.tokenize.sent_tokenize(s)"
   ]
  },
  {
   "cell_type": "code",
   "execution_count": 3,
   "metadata": {},
   "outputs": [
    {
     "output_type": "stream",
     "name": "stderr",
     "text": [
      "[nltk_data] Downloading package punkt to\n",
      "[nltk_data]     C:\\Users\\debji\\AppData\\Roaming\\nltk_data...\n",
      "[nltk_data]   Unzipping tokenizers\\punkt.zip.\n"
     ]
    },
    {
     "output_type": "execute_result",
     "data": {
      "text/plain": [
       "True"
      ]
     },
     "metadata": {},
     "execution_count": 3
    }
   ],
   "source": [
    "nltk.download('punkt')"
   ]
  },
  {
   "cell_type": "code",
   "execution_count": 7,
   "metadata": {},
   "outputs": [],
   "source": [
    "import re"
   ]
  },
  {
   "cell_type": "code",
   "execution_count": 13,
   "metadata": {},
   "outputs": [
    {
     "output_type": "stream",
     "name": "stdout",
     "text": [
      "Wall time: 0 ns\n"
     ]
    },
    {
     "output_type": "execute_result",
     "data": {
      "text/plain": [
       "['The Honan Chapel is a small Catholic church built in the Celtic-Romanesque Revival style on the grounds of University College Cork.',\n",
       " 'Designed in 1914, the building was completed in 1916 and fully furnished by 1917.',\n",
       " 'Its architecture and fittings are representative of the Celtic Revival movement.',\n",
       " \"Its construction was initiated by Dublin solicitor John O'Connell, and funded by Isabella Honan, a member of a wealthy Cork family, who made a significant donation towards the works.\",\n",
       " \"O'Connell guided the architect James F.\",\n",
       " 'McMullen and the builders John Sisk and Sons, and hired the craftsmen and artists involved in its artwork. in 1986, the sculptor Imogen Stuart was commissioned to oversee the installation of a new altar and other furnishings and fittings.',\n",
       " \"The chapel's interior is designed and fitted in a traditional Irish style, but with an appreciation of contemporary trends.\",\n",
       " 'Its furnishings include the mosaic flooring, altar plate, metalwork and enamel pieces, liturgical textiles, and nineteen stained-glass windows.']"
      ]
     },
     "metadata": {},
     "execution_count": 13
    }
   ],
   "source": [
    "%%time\n",
    "re.split(r'(?<=[^A-Z].[.?]) +(?=[A-Z])', s)"
   ]
  },
  {
   "cell_type": "code",
   "execution_count": 15,
   "metadata": {},
   "outputs": [
    {
     "output_type": "execute_result",
     "data": {
      "text/plain": [
       "\"The honan chapel is a small catholic church built in the celtic-romanesque revival style on the grounds of university college cork.       designed in 1914, the building was completed in 1916 and fully furnished by 1917. its architecture and fittings are representative of the celtic revival movement. its construction was initiated by dublin solicitor john o'connell, and funded by isabella honan, a member of a wealthy cork family, who made a significant donation towards the works. o'connell guided the architect james f. mcmullen and the builders john sisk and sons, and hired the craftsmen and artists involved in its artwork. in 1986, the sculptor imogen stuart was commissioned to oversee the installation of a new altar and other furnishings and fittings. the chapel's interior is designed and fitted in a traditional irish style, but with an appreciation of contemporary trends. its furnishings include the mosaic flooring, altar plate, metalwork and enamel pieces, liturgical textiles, and nineteen stained-glass windows.\""
      ]
     },
     "metadata": {},
     "execution_count": 15
    }
   ],
   "source": [
    "s.capitalize()"
   ]
  },
  {
   "cell_type": "code",
   "execution_count": 20,
   "metadata": {},
   "outputs": [],
   "source": [
    "def isq(sent):\n",
    "    if sent.endswith('?'):\n",
    "        return True\n",
    "    elif sent[:sent.index(' ')] in ['is', 'does', 'what', 'when', 'where', 'who', 'why', 'what', 'how']:\n",
    "        return True\n",
    "    else:\n",
    "        return False"
   ]
  },
  {
   "cell_type": "code",
   "execution_count": 21,
   "metadata": {},
   "outputs": [],
   "source": [
    "def isq_txt(textlist):\n",
    "    return sum([isq(sent) for sent in textlist]) > 0"
   ]
  },
  {
   "cell_type": "code",
   "execution_count": 25,
   "metadata": {},
   "outputs": [],
   "source": [
    "def is_ques(text):\n",
    "    textlist = nltk.tokenize.sent_tokenize(text)\n",
    "    return sum([isq(sent) for sent in textlist]) > 0"
   ]
  },
  {
   "cell_type": "code",
   "execution_count": 16,
   "metadata": {},
   "outputs": [
    {
     "output_type": "execute_result",
     "data": {
      "text/plain": [
       "'hemlo'"
      ]
     },
     "metadata": {},
     "execution_count": 16
    }
   ],
   "source": [
    "sent = \"hemlo how u do lmao\"\n",
    "sent[:sent.index(' ')]"
   ]
  },
  {
   "cell_type": "code",
   "execution_count": 19,
   "metadata": {},
   "outputs": [
    {
     "output_type": "execute_result",
     "data": {
      "text/plain": [
       "True"
      ]
     },
     "metadata": {},
     "execution_count": 19
    }
   ],
   "source": [
    "sent.endswith('o')"
   ]
  },
  {
   "cell_type": "code",
   "execution_count": 26,
   "metadata": {},
   "outputs": [
    {
     "output_type": "stream",
     "name": "stdout",
     "text": [
      "Wall time: 997 µs\n"
     ]
    },
    {
     "output_type": "execute_result",
     "data": {
      "text/plain": [
       "False"
      ]
     },
     "metadata": {},
     "execution_count": 26
    }
   ],
   "source": [
    "%%time\n",
    "is_ques(s)"
   ]
  },
  {
   "cell_type": "code",
   "execution_count": 27,
   "metadata": {},
   "outputs": [],
   "source": [
    "def hello_content(request):\n",
    "    content_type = request.headers['content-type']\n",
    "\n",
    "    if content_type == 'application/json':\n",
    "        data = request.get_json(silent=True)\n",
    "        if data and 'password' in data and 'text' in data:\n",
    "            if data['password'] == 'yoboshu_isqv01':\n",
    "                return is_ques(data['text'])\n",
    "            else:\n",
    "                return \"Not Authorized\"\n",
    "        else:\n",
    "            return \"JSON is invalid, or missing a 'password' or 'text' property\""
   ]
  },
  {
   "cell_type": "code",
   "execution_count": 28,
   "metadata": {},
   "outputs": [],
   "source": [
    "from flask import Flask, redirect, url_for, request\n",
    "app = Flask(__name__)\n",
    "@app.route('/]',methods = ['GET'])\n",
    "def epic(request):\n",
    "    return hello_content(request)"
   ]
  },
  {
   "cell_type": "code",
   "execution_count": 29,
   "metadata": {},
   "outputs": [
    {
     "output_type": "stream",
     "name": "stdout",
     "text": [
      " * Serving Flask app \"__main__\" (lazy loading)\n",
      " * Environment: production\n",
      "   WARNING: This is a development server. Do not use it in a production deployment.\n",
      "   Use a production WSGI server instead.\n",
      " * Debug mode: on\n",
      " * Restarting with stat\n"
     ]
    },
    {
     "output_type": "error",
     "ename": "SystemExit",
     "evalue": "1",
     "traceback": [
      "An exception has occurred, use %tb to see the full traceback.\n",
      "\u001b[1;31mSystemExit\u001b[0m\u001b[1;31m:\u001b[0m 1\n"
     ]
    }
   ],
   "source": [
    "if __name__ == '__main__':\n",
    "   app.run(debug = True)"
   ]
  },
  {
   "cell_type": "code",
   "execution_count": null,
   "metadata": {},
   "outputs": [],
   "source": []
  }
 ]
}